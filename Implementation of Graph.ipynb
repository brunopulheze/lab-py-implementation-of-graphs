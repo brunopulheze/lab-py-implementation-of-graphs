{
 "cells": [
  {
   "cell_type": "markdown",
   "metadata": {},
   "source": [
    "# LAB | Implementation of Graphs\n"
   ]
  },
  {
   "cell_type": "markdown",
   "metadata": {},
   "source": [
    "\n",
    "## Overview\n"
   ]
  },
  {
   "cell_type": "markdown",
   "metadata": {},
   "source": [
    "\n",
    "This lesson will cover the implementation of graphs in Python, focusing on two primary representations: adjacency list and adjacency matrix. We will also explore operations such as insertion and deletion of nodes and edges, as well as searching and traversing the graph.\n"
   ]
  },
  {
   "cell_type": "markdown",
   "metadata": {},
   "source": [
    "\n",
    "## Instructions\n"
   ]
  },
  {
   "cell_type": "markdown",
   "metadata": {},
   "source": [
    "\n",
    "- Complete each section by understanding the concepts and implementing the provided code.\n",
    "- Test your code to ensure it behaves as expected.\n"
   ]
  },
  {
   "cell_type": "markdown",
   "metadata": {},
   "source": [
    "\n",
    "## A. Graph Representation Using Adjacency List\n"
   ]
  },
  {
   "cell_type": "markdown",
   "metadata": {},
   "source": [
    "\n",
    "In this section, we will implement a graph using an adjacency list. This representation uses a dictionary where keys are vertices and values are lists of adjacent vertices.\n"
   ]
  },
  {
   "cell_type": "markdown",
   "metadata": {},
   "source": [
    "\n",
    "### Key Concepts\n"
   ]
  },
  {
   "cell_type": "markdown",
   "metadata": {},
   "source": [
    "\n",
    "- **Vertex**: A node in the graph.\n",
    "- **Edge**: A connection between two vertices.\n"
   ]
  },
  {
   "cell_type": "markdown",
   "metadata": {},
   "source": [
    "\n",
    "### Implementation Steps\n",
    "\n",
    "1. Create a class `Graph` that contains a dictionary to represent the adjacency list.\n",
    "2. Implement methods to add and remove vertices and edges.\n"
   ]
  },
  {
   "cell_type": "markdown",
   "metadata": {},
   "source": [
    "### Explanation\n",
    "This cell demonstrates the implementation. Take a moment to check out the code and run the cell to see how it works."
   ]
  },
  {
   "cell_type": "code",
   "execution_count": 1,
   "metadata": {},
   "outputs": [],
   "source": [
    "class Graph:\n",
    "    def __init__(self):\n",
    "        self.graph = {}\n",
    "\n",
    "    def add_vertex(self, vertex):\n",
    "        if vertex not in self.graph:\n",
    "            self.graph[vertex] = []\n",
    "\n",
    "    def remove_vertex(self, vertex):\n",
    "        if vertex in self.graph:\n",
    "            del self.graph[vertex]\n",
    "            for v in self.graph:\n",
    "                if vertex in self.graph[v]:\n",
    "                    self.graph[v].remove(vertex)\n",
    "\n",
    "    def add_edge(self, vertex1, vertex2):\n",
    "        if vertex1 in self.graph and vertex2 in self.graph:\n",
    "            self.graph[vertex1].append(vertex2)\n",
    "            self.graph[vertex2].append(vertex1)  # For undirected graph\n",
    "\n",
    "    def remove_edge(self, vertex1, vertex2):\n",
    "        if vertex1 in self.graph and vertex2 in self.graph:\n",
    "            self.graph[vertex1].remove(vertex2)\n",
    "            self.graph[vertex2].remove(vertex1)  # For undirected graph\n"
   ]
  },
  {
   "cell_type": "code",
   "execution_count": 2,
   "metadata": {},
   "outputs": [],
   "source": [
    "# Example usage:\n",
    "g = Graph()\n",
    "g.add_vertex(1)\n",
    "g.add_vertex(2)\n",
    "g.add_edge(1, 2)\n",
    "g.remove_edge(1, 2)"
   ]
  },
  {
   "cell_type": "markdown",
   "metadata": {},
   "source": [
    "### Try It Yourself!\n",
    "Modify the implementation below or try writing your own version based on what you've learned above."
   ]
  },
  {
   "cell_type": "code",
   "execution_count": null,
   "metadata": {},
   "outputs": [],
   "source": [
    "class SimpleGraph:\n",
    "    def __init__(self):\n",
    "        self.adjacency_list = {}\n",
    "\n",
    "    def add_node(self, node):\n",
    "        if node not in self.adjacency_list:\n",
    "            self.adjacency_list[node] = []\n",
    "\n",
    "    def delete_node(self, node):\n",
    "        if node in self.adjacency_list:\n",
    "            del self.adjacency_list[node]\n",
    "            for n in self.adjacency_list:\n",
    "                if node in self.adjacency_list[n]:\n",
    "                    self.adjacency_list[n].remove(node)\n",
    "\n",
    "    def connect_nodes(self, node1, node2):\n",
    "        if node1 in self.adjacency_list and node2 in self.adjacency_list:\n",
    "            self.adjacency_list[node1].append(node2)\n",
    "            self.adjacency_list[node2].append(node1)  # Undirected connection\n",
    "\n",
    "    def disconnect_nodes(self, node1, node2):\n",
    "        if node1 in self.adjacency_list and node2 in self.adjacency_list:\n",
    "            self.adjacency_list[node1].remove(node2)\n",
    "            self.adjacency_list[node2].remove(node1)  # Undirected connection\n",
    "# Example usage:\n",
    "sg = SimpleGraph()\n",
    "sg.add_node(1)\n",
    "sg.add_node(2)\n",
    "sg.connect_nodes(1, 2)\n",
    "sg.disconnect_nodes(1, 2)\n"
   ]
  },
  {
   "cell_type": "markdown",
   "metadata": {},
   "source": [
    "\n",
    "## B. Graph Representation Using Adjacency Matrix\n"
   ]
  },
  {
   "cell_type": "markdown",
   "metadata": {},
   "source": [
    "\n",
    "In this section, we will implement a graph using an adjacency matrix. This representation uses a 2D list (matrix) where rows and columns represent vertices.\n"
   ]
  },
  {
   "cell_type": "markdown",
   "metadata": {},
   "source": [
    "\n",
    "### Key Concepts\n",
    "\n",
    "- **Adjacency Matrix**: A square matrix used to represent a finite graph.\n"
   ]
  },
  {
   "cell_type": "markdown",
   "metadata": {},
   "source": [
    "\n",
    "### Implementation Steps\n",
    "\n",
    "1. Create a class `GraphMatrix` that initializes a matrix based on the number of vertices.\n",
    "2. Implement methods to add and remove vertices and edges.\n"
   ]
  },
  {
   "cell_type": "markdown",
   "metadata": {},
   "source": [
    "### Explanation\n",
    "This cell demonstrates the implementation. Take a moment to check out the code and run the cell to see how it works."
   ]
  },
  {
   "cell_type": "code",
   "execution_count": 3,
   "metadata": {},
   "outputs": [],
   "source": [
    "class GraphMatrix:\n",
    "    def __init__(self, size):\n",
    "        self.size = size\n",
    "        self.matrix = [ [0] * size for _ in range(size)]\n",
    "\n",
    "    def add_edge(self, vertex1, vertex2):\n",
    "        if 0 <= vertex1 < self.size and 0 <= vertex2 < self.size:\n",
    "            self.matrix[vertex1][vertex2] = 1\n",
    "            self.matrix[vertex2][vertex1] = 1  # For undirected graph\n",
    "\n",
    "    def remove_edge(self, vertex1, vertex2):\n",
    "        if 0 <= vertex1 < self.size and 0 <= vertex2 < self.size:\n",
    "            self.matrix[vertex1][vertex2] = 0\n",
    "            self.matrix[vertex2][vertex1] = 0  # For undirected graph"
   ]
  },
  {
   "cell_type": "code",
   "execution_count": 4,
   "metadata": {},
   "outputs": [],
   "source": [
    "# Example usage:\n",
    "g_matrix = GraphMatrix(3)\n",
    "g_matrix.add_edge(0, 1)\n",
    "g_matrix.remove_edge(0, 1)"
   ]
  },
  {
   "cell_type": "markdown",
   "metadata": {},
   "source": [
    "### Try It Yourself!\n",
    "Modify the implementation below or try writing your own version based on what you've learned above."
   ]
  },
  {
   "cell_type": "code",
   "execution_count": null,
   "metadata": {},
   "outputs": [],
   "source": [
    "class Graph_Matrix:\n",
    "    def __init__(self, size):\n",
    "        self.size = size\n",
    "        self.matrix = [[0] * size for _ in range(size)]\n",
    "\n",
    "    def add_edge(self, vertex1, vertex2):\n",
    "        if 0 <= vertex1 < self.size and 0 <= vertex2 < self.size:\n",
    "            self.matrix[vertex1][vertex2] = 1\n",
    "            self.matrix[vertex2][vertex1] = 1  # Undirected graph\n",
    "\n",
    "    def remove_edge(self, vertex1, vertex2):\n",
    "        if 0 <= vertex1 < self.size and 0 <= vertex2 < self.size:\n",
    "            self.matrix[vertex1][vertex2] = 0\n",
    "            self.matrix[vertex2][vertex1] = 0  # Undirected graph\n",
    "\n",
    "# Example usage:\n",
    "g_matrix = Graph_Matrix(3)\n",
    "g_matrix.add_edge(0, 1)\n",
    "g_matrix.remove_edge(0, 1)\n",
    "\n",
    "\n"
   ]
  },
  {
   "cell_type": "markdown",
   "metadata": {},
   "source": [
    "### Operations on Adjacency List\n",
    " "
   ]
  },
  {
   "cell_type": "markdown",
   "metadata": {},
   "source": [
    "### Explanation\n",
    "Below cells demonstrate the implementation. Take a moment to check out the code and run the cells to see how it works."
   ]
  },
  {
   "cell_type": "markdown",
   "metadata": {},
   "source": [
    "\n",
    "#### Add Vertex\n",
    "\n",
    "This operation adds a new vertex to the graph.\n"
   ]
  },
  {
   "cell_type": "code",
   "execution_count": 5,
   "metadata": {},
   "outputs": [],
   "source": [
    "def add_vertex(self, vertex):\n",
    "    if vertex not in self.graph:\n",
    "        self.graph[vertex] = []"
   ]
  },
  {
   "cell_type": "markdown",
   "metadata": {},
   "source": [
    "### Try It Yourself!\n",
    "Modify the implementation below or try writing your own version based on what you've learned above."
   ]
  },
  {
   "cell_type": "code",
   "execution_count": null,
   "metadata": {},
   "outputs": [],
   "source": [
    "def add_vertex(self, vertex):\n",
    "    if vertex not in self.graph:\n",
    "        self.graph[vertex] = []  # Initialize an empty list for the new vertex"
   ]
  },
  {
   "cell_type": "markdown",
   "metadata": {},
   "source": [
    "\n",
    "#### Remove Vertex\n",
    "\n",
    "This operation removes a vertex from the graph along with its associated edges.\n"
   ]
  },
  {
   "cell_type": "code",
   "execution_count": 6,
   "metadata": {},
   "outputs": [],
   "source": [
    "def remove_vertex(self, vertex):\n",
    "    if vertex in self.graph:\n",
    "        del self.graph[vertex]\n",
    "        for v in self.graph:\n",
    "            if vertex in self.graph[v]:\n",
    "                self.graph[v].remove(vertex)\n"
   ]
  },
  {
   "cell_type": "markdown",
   "metadata": {},
   "source": [
    "### Try It Yourself!\n",
    "Modify the implementation below or try writing your own version based on what you've learned above."
   ]
  },
  {
   "cell_type": "code",
   "execution_count": null,
   "metadata": {},
   "outputs": [],
   "source": [
    "def remove_vertex(self, vertex):\n",
    "    if vertex in self.graph:\n",
    "        del self.graph[vertex]  # Remove the vertex from the graph\n",
    "        for v in self.graph:  # Iterate through all vertices\n",
    "            if vertex in self.graph[v]:  # If the vertex is in the adjacency list of another vertex\n",
    "                self.graph[v].remove(vertex)  # Remove it from that list"
   ]
  },
  {
   "cell_type": "markdown",
   "metadata": {},
   "source": [
    "\n",
    "#### Add Edge\n",
    "\n",
    "This operation adds an edge between two vertices.\n"
   ]
  },
  {
   "cell_type": "code",
   "execution_count": 7,
   "metadata": {},
   "outputs": [],
   "source": [
    "def add_edge(self, vertex1, vertex2):\n",
    "    if vertex1 in self.graph and vertex2 in self.graph:\n",
    "        self.graph[vertex1].append(vertex2)\n",
    "        self.graph[vertex2].append(vertex1)  # For undirected graph\n",
    "\n"
   ]
  },
  {
   "cell_type": "markdown",
   "metadata": {},
   "source": [
    "### Try It Yourself!\n",
    "Modify the implementation below or try writing your own version based on what you've learned above."
   ]
  },
  {
   "cell_type": "code",
   "execution_count": null,
   "metadata": {},
   "outputs": [],
   "source": [
    "def add_edge(self, vertex1, vertex2):\n",
    "    if vertex1 in self.graph and vertex2 in self.graph:\n",
    "        self.graph[vertex1].append(vertex2)  # Add edge from vertex1 to vertex2\n",
    "        self.graph[vertex2].append(vertex1)  # Add edge from vertex2 to vertex1 (undirected graph)"
   ]
  },
  {
   "cell_type": "markdown",
   "metadata": {},
   "source": [
    "\n",
    "#### Remove Edge\n",
    "\n",
    "This operation removes an edge between two vertices.\n"
   ]
  },
  {
   "cell_type": "code",
   "execution_count": 8,
   "metadata": {},
   "outputs": [],
   "source": [
    "def remove_edge(self, vertex1, vertex2):\n",
    "    if vertex1 in self.graph and vertex2 in self.graph:\n",
    "        self.graph[vertex1].remove(vertex2)\n",
    "        self.graph[vertex2].remove(vertex1)  # For undirected graph\n",
    "\n"
   ]
  },
  {
   "cell_type": "markdown",
   "metadata": {},
   "source": [
    "### Try It Yourself!\n",
    "Modify the implementation below or try writing your own version based on what you've learned above."
   ]
  },
  {
   "cell_type": "code",
   "execution_count": null,
   "metadata": {},
   "outputs": [],
   "source": [
    "def remove_edge(self, vertex1, vertex2):\n",
    "    if vertex1 in self.graph and vertex2 in self.graph:\n",
    "        self.graph[vertex1].remove(vertex2)  # Remove edge from vertex1 to vertex2\n",
    "        self.graph[vertex2].remove(vertex1)  # Remove edge from vertex2 to vertex1 (undirected graph)"
   ]
  },
  {
   "cell_type": "markdown",
   "metadata": {},
   "source": [
    "\n",
    "### Example Usage for Adjacency List\n"
   ]
  },
  {
   "cell_type": "code",
   "execution_count": 9,
   "metadata": {},
   "outputs": [],
   "source": [
    "g = Graph()\n",
    "g.add_vertex(1)\n",
    "g.add_vertex(2)\n",
    "g.add_edge(1, 2)\n",
    "g.remove_edge(1, 2)\n",
    "g.remove_vertex(1)"
   ]
  },
  {
   "cell_type": "markdown",
   "metadata": {},
   "source": [
    "### Operations on Adjacency Matrix\n"
   ]
  },
  {
   "cell_type": "markdown",
   "metadata": {},
   "source": [
    "\n",
    "#### Add Edge\n",
    "\n",
    "This operation adds an edge between two vertices in the adjacency matrix.\n"
   ]
  },
  {
   "cell_type": "code",
   "execution_count": 10,
   "metadata": {},
   "outputs": [],
   "source": [
    "def add_edge(self, vertex1, vertex2):\n",
    "    if 0 <= vertex1 < self.size and 0 <= vertex2 < self.size:\n",
    "        self.matrix[vertex1][vertex2] = 1\n",
    "        self.matrix[vertex2][vertex1] = 1  # For undirected graph"
   ]
  },
  {
   "cell_type": "markdown",
   "metadata": {},
   "source": [
    "### Try It Yourself!\n",
    "Modify the implementation below or try writing your own version based on what you've learned above."
   ]
  },
  {
   "cell_type": "code",
   "execution_count": null,
   "metadata": {},
   "outputs": [],
   "source": [
    "def add_edge(self, vertex1, vertex2):\n",
    "    if 0 <= vertex1 < self.size and 0 <= vertex2 < self.size:\n",
    "        self.matrix[vertex1][vertex2] = 1  # Set edge from vertex1 to vertex2\n",
    "        self.matrix[vertex2][vertex1] = 1  # Set edge from vertex2 to vertex1 (undirected graph)"
   ]
  },
  {
   "cell_type": "markdown",
   "metadata": {},
   "source": [
    "\n",
    "#### Remove Edge\n",
    "\n",
    "This operation removes an edge between two vertices in the adjacency matrix.\n"
   ]
  },
  {
   "cell_type": "code",
   "execution_count": 11,
   "metadata": {},
   "outputs": [],
   "source": [
    "def remove_edge(self, vertex1, vertex2):\n",
    "    if 0 <= vertex1 < self.size and 0 <= vertex2 < self.size:\n",
    "        self.matrix[vertex1][vertex2] = 0\n",
    "        self.matrix[vertex2][vertex1] = 0  # For undirected graph"
   ]
  },
  {
   "cell_type": "markdown",
   "metadata": {},
   "source": [
    "### Try It Yourself!\n",
    "Modify the implementation below or try writing your own version based on what you've learned above."
   ]
  },
  {
   "cell_type": "code",
   "execution_count": null,
   "metadata": {},
   "outputs": [],
   "source": [
    "def remove_edge(self, vertex1, vertex2):\n",
    "    if vertex1 in self.graph and vertex2 in self.graph:\n",
    "        self.graph[vertex1].remove(vertex2)  # Remove edge from vertex1 to vertex2\n",
    "        self.graph[vertex2].remove(vertex1)  # Remove edge from vertex2 to vertex1 (undirected graph)"
   ]
  },
  {
   "cell_type": "markdown",
   "metadata": {},
   "source": [
    "\n",
    "### Example Usage for Adjacency Matrix\n"
   ]
  },
  {
   "cell_type": "code",
   "execution_count": 12,
   "metadata": {},
   "outputs": [],
   "source": [
    "g_matrix = GraphMatrix(3)\n",
    "g_matrix.add_edge(0, 1)\n",
    "g_matrix.remove_edge(0, 1)"
   ]
  },
  {
   "cell_type": "markdown",
   "metadata": {},
   "source": [
    "\n",
    "## Exercise Completion\n"
   ]
  },
  {
   "cell_type": "markdown",
   "metadata": {},
   "source": [
    "\n",
    "Once you have completed all sections:\n",
    "\n",
    "- Review your implementations.\n",
    "- Ensure your code is well-documented with comments explaining your logic.\n",
    "- Save your notebook for submission or further review.\n"
   ]
  },
  {
   "cell_type": "markdown",
   "metadata": {},
   "source": [
    "\n",
    "Happy coding! Enjoy practicing Graph implementations in Python!\n",
    "\n"
   ]
  }
 ],
 "metadata": {
  "kernelspec": {
   "display_name": ".venv",
   "language": "python",
   "name": "python3"
  },
  "language_info": {
   "codemirror_mode": {
    "name": "ipython",
    "version": 3
   },
   "file_extension": ".py",
   "mimetype": "text/x-python",
   "name": "python",
   "nbconvert_exporter": "python",
   "pygments_lexer": "ipython3",
   "version": "3.13.3"
  }
 },
 "nbformat": 4,
 "nbformat_minor": 2
}
